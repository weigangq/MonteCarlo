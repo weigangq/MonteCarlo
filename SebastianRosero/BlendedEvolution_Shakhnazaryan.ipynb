{
  "nbformat": 4,
  "nbformat_minor": 0,
  "metadata": {
    "colab": {
      "provenance": []
    },
    "kernelspec": {
      "name": "python3",
      "display_name": "Python 3"
    },
    "language_info": {
      "name": "python"
    }
  },
  "cells": [
    {
      "cell_type": "code",
      "execution_count": 22,
      "metadata": {
        "id": "KQdl2HvE9ND2"
      },
      "outputs": [],
      "source": [
        "import numpy as np\n",
        "import pandas as pd\n",
        "import seaborn as sns"
      ]
    },
    {
      "cell_type": "code",
      "source": [
        "rng = np.random.default_rng()"
      ],
      "metadata": {
        "id": "leybaDxT9QOP"
      },
      "execution_count": 23,
      "outputs": []
    },
    {
      "cell_type": "code",
      "source": [
        "def blend(pop_size, gens):\n",
        "  pop = rng.binomial(1,0.5,pop_size)\n",
        "\n",
        "  meanAllValue = []\n",
        "  stdPopGen = []\n",
        "\n",
        "  initialM = np.mean(pop)\n",
        "  sdInitialPop = np.std(pop)\n",
        "\n",
        "  meanAllValue.append(initialM)\n",
        "  stdPopGen.append(sdInitialPop)\n",
        "\n",
        "  for i in range(gens):\n",
        "    newGen = []\n",
        "    for j in range(pop_size):\n",
        "      parents = np.random.choice(pop, 2, replace = False)\n",
        "      child = np.mean(parents)\n",
        "      newGen.append(child)\n",
        "\n",
        "    pop = newGen\n",
        "\n",
        "    meanAllValue.append(np.mean(newGen)) #pop = new gen\n",
        "    stdPopGen.append(np.std(newGen))\n",
        "\n",
        "  d= {}\n",
        "  d[\"gen\"] = np.arange(0,gens + 1)\n",
        "  d[\"mean\"] = meanAllValue\n",
        "  d[\"std\"] = stdPopGen\n",
        "\n",
        "  df = pd.DataFrame(d)\n",
        "\n",
        "  return df"
      ],
      "metadata": {
        "id": "fvvx6IQS9bRJ"
      },
      "execution_count": 38,
      "outputs": []
    },
    {
      "cell_type": "code",
      "source": [
        "blender = blend(1000,50)\n"
      ],
      "metadata": {
        "id": "c2TqUPsCBis3"
      },
      "execution_count": 42,
      "outputs": []
    },
    {
      "cell_type": "code",
      "source": [
        "sns.lineplot(x=blender[\"gen\"],y=blender[\"mean\"]).set(title=\"Blended Evolution: Pop Mean/Std Over Time\", xlabel=\"generation\", ylabel=\"Stat Value\")\n",
        "sns.lineplot(x=blender[\"gen\"],y=blender[\"std\"])\n"
      ],
      "metadata": {
        "colab": {
          "base_uri": "https://localhost:8080/",
          "height": 490
        },
        "id": "wtspesQc7i_P",
        "outputId": "44a7682c-507c-453c-d623-01f6bccc7908"
      },
      "execution_count": 47,
      "outputs": [
        {
          "output_type": "execute_result",
          "data": {
            "text/plain": [
              "<Axes: title={'center': 'Blended Evolution: Pop Mean/Std Over Time'}, xlabel='generation', ylabel='Stat Value'>"
            ]
          },
          "metadata": {},
          "execution_count": 47
        },
        {
          "output_type": "display_data",
          "data": {
            "text/plain": [
              "<Figure size 640x480 with 1 Axes>"
            ],
            "image/png": "[encoded data removed]"
          },
          "metadata": {}
        }
      ]
    },
    {
      "cell_type": "code",
      "source": [],
      "metadata": {
        "id": "5tCQjDJs7mB_"
      },
      "execution_count": 20,
      "outputs": []
    },
    {
      "cell_type": "code",
      "source": [],
      "metadata": {
        "id": "cfDqbcID-qSW"
      },
      "execution_count": null,
      "outputs": []
    },
    {
      "cell_type": "code",
      "source": [
        "child = np.random.choice(pop,2,replace=False)\n",
        "\n",
        "np.mean(child)"
      ],
      "metadata": {
        "colab": {
          "base_uri": "https://localhost:8080/"
        },
        "id": "OkMcJxgG9gnu",
        "outputId": "8e14e2b1-3cb3-4ade-a4ba-3b123447baed"
      },
      "execution_count": 9,
      "outputs": [
        {
          "output_type": "execute_result",
          "data": {
            "text/plain": [
              "1.0"
            ]
          },
          "metadata": {},
          "execution_count": 9
        }
      ]
    },
    {
      "cell_type": "markdown",
      "source": [
        "Original mean population (one child)\n",
        "\n",
        "for part two append each child to a list so that it prints the new population maybe\n",
        "\n",
        "have to use dictionaries to do the dataframe part\n",
        "\n",
        "create a method to create the populations (def)\n"
      ],
      "metadata": {
        "id": "RoFik55G-ceJ"
      }
    }
  ]
}