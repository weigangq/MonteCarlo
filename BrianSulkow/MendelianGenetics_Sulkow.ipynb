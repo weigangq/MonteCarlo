{
  "nbformat": 4,
  "nbformat_minor": 0,
  "metadata": {
    "colab": {
      "provenance": []
    },
    "kernelspec": {
      "name": "python3",
      "display_name": "Python 3"
    },
    "language_info": {
      "name": "python"
    }
  },
  "cells": [
    {
      "cell_type": "code",
      "execution_count": 2,
      "metadata": {
        "id": "jSXOhx5oTdNK"
      },
      "outputs": [],
      "source": [
        "import pandas as pd\n",
        "import numpy as np\n",
        "import seaborn as sns\n",
        "import random"
      ]
    },
    {
      "cell_type": "markdown",
      "source": [
        "#Mendelinan Genetics - Without Dominant Genes"
      ],
      "metadata": {
        "id": "sbRso9RFOKCE"
      }
    },
    {
      "cell_type": "markdown",
      "source": [
        "input: one parental (diploid) populations of N=1000, with two homozygotes \"AA\" (e.g., 900) and \"GG\" (e.g., 100); a child is produced by randomly selecting a mom and dad, followed by another random selection of gametes (A or G from each parent). Repeat for G generations. Output: genetic diversity in each generation."
      ],
      "metadata": {
        "id": "rsLokJpwTyfw"
      }
    },
    {
      "cell_type": "code",
      "source": [
        "##initPop :  builds initial populations with a np array\n",
        "#input:  popSize\n",
        "#return:  np.array  representing a population with members  AA or GG\n",
        "def initPop(popSize,freq1):\n",
        "  a = [0,0]   #Represents AA\n",
        "  b =[1,1]    #Represents GG\n",
        "\n",
        "  zeroMat = np.zeros((popSize,2),dtype =  np.int64)\n",
        "\n",
        "  for i in range(int(popSize*freq1)):   ##COMMENT: create equal proportion\n",
        "    zeroMat[i,] = b\n",
        "  return zeroMat\n",
        "#initPop(10)"
      ],
      "metadata": {
        "id": "1IX3Fv2ceIfM"
      },
      "execution_count": 3,
      "outputs": []
    },
    {
      "cell_type": "code",
      "source": [
        "## newPop:  Creates child population from parent population,\n",
        "#input :  np.array - a population\n",
        "#output : np.array - a new population\n",
        "def newPop(currentPop):\n",
        "\n",
        "  newPop = np.zeros((currentPop.shape[0],currentPop.shape[1]),dtype =  np.int64)                #create an array for newPop\n",
        "  for i in range(newPop.shape[0]):                                                              #creates a new pop member with each iteration\n",
        "    parent = np.random.choice(np.arange(0,currentPop.shape[0]), size = 2 , replace = False )    #randomly choose two parents\n",
        "    gene1 = np.random.choice([0,1],size = 1)                                                    #randomly choose a copy of a gene from a parent1\n",
        "    gene2 = np.random.choice([0,1], size = 1)                                                   #randomly choose a copy of a gene from a parent1\n",
        "    newPop[i,0] = currentPop[parent[0],gene1[0]]                                                #note gene1[0] since gene1 is an array\n",
        "    newPop[i,1] = currentPop[parent[1],gene2[0]]\n",
        "\n",
        "  return newPop\n",
        "\n",
        "#newPop(initPop(10))"
      ],
      "metadata": {
        "id": "TFMt7xJSgjAE"
      },
      "execution_count": 4,
      "outputs": []
    },
    {
      "cell_type": "code",
      "source": [
        "#alleleTypes: Outputs a list which assigns zygote type for each member of the population\n",
        "#input: np.array - a population\n",
        "#output:  list -  zygote types are   2 -> (1,1)   ;  1-> (1,0) or (0,1)  ; 0 -> (0,0)\n",
        "\n",
        "def alleleTypes(pop):\n",
        "\n",
        "  alleleType = [0]*pop.shape[0]\n",
        "  for i in range(pop.shape[0]):\n",
        "    alleleType[i] = np.sum(pop[i,])         #sum each row\n",
        "\n",
        "  return alleleType\n",
        "\n",
        "#alleleTypes(newPop(initPop(10,.2)))"
      ],
      "metadata": {
        "id": "S682DLRDk9c_"
      },
      "execution_count": 5,
      "outputs": []
    },
    {
      "cell_type": "code",
      "source": [
        "#zygCountsNoDom- outputs frequency of each zygote type (without dominance)\n",
        "#input :  list - zygote type of each population member\n",
        "#output:  list - frequency of each zygote type\n",
        "\n",
        "def zygCount(zygList):\n",
        "\n",
        "  counts = [0,0,0]\n",
        "\n",
        "  for i in range(len(zygList)):\n",
        "    if zygList[i] == 0:\n",
        "      counts[0] += 1\n",
        "    elif zygList[i]== 1:\n",
        "      counts[1] += 1\n",
        "    else:\n",
        "      counts[2] += 1\n",
        "  return counts/np.sum(counts)\n",
        "\n",
        "\n",
        "#a = alleleTypes((initPop(10,.2)))\n",
        "#print(a)\n",
        "#zygCount(a)"
      ],
      "metadata": {
        "id": "gskL7BHqODgl",
        "colab": {
          "base_uri": "https://localhost:8080/"
        },
        "outputId": "280d1d65-5c7d-4941-cd46-a216fc612cc3"
      },
      "execution_count": 6,
      "outputs": [
        {
          "output_type": "stream",
          "name": "stdout",
          "text": [
            "[2, 2, 0, 0, 0, 0, 0, 0, 0, 0]\n"
          ]
        },
        {
          "output_type": "execute_result",
          "data": {
            "text/plain": [
              "array([0.8, 0. , 0.2])"
            ]
          },
          "metadata": {},
          "execution_count": 6
        }
      ]
    },
    {
      "cell_type": "code",
      "source": [
        "#mendGen :  outputs a pd.Dataframe where each row gives a frequency count for a particular generation\n",
        "def  mendGen(pop_size,freq1, num_Gen):\n",
        "#input : pop_size and num_Gen\n",
        "#output: pd.DataFrame\n",
        "\n",
        "  pop = initPop(pop_size,freq1)                         #create the initial pop\n",
        "  countMat =np.array(zygCount(alleleTypes(pop)))        #create a np array to hold freq counts. Transform to df later\n",
        "  nG = pop.copy()                                       #place holder population\n",
        "\n",
        "  for i in range(num_Gen):                              #iterations correspond to generations\n",
        "    nextGen = newPop(nG)                                #create next generation from nG\n",
        "    newCount =np.array(zygCount(alleleTypes(nextGen)))  # zygote freq count\n",
        "    countMat = np.vstack((countMat,newCount))           # add zygote freq count to countMat\n",
        "    nG = nextGen.copy()\n",
        "\n",
        "  countMat = np.column_stack((np.arange(0,countMat.shape[0]),countMat))\n",
        "  df1 = pd.DataFrame(countMat)\n",
        "\n",
        "  df1.columns = [\"Gen\",\"Hom00\",\"Het01\", \"Hom11\"]\n",
        "  df1 = pd.melt(df1,id_vars= [\"Gen\"],var_name =\"ZygoteType\", value_name=\"Frequency\")\n",
        "\n",
        "  return df1"
      ],
      "metadata": {
        "id": "91QfRhlVOHJE"
      },
      "execution_count": 7,
      "outputs": []
    },
    {
      "cell_type": "code",
      "source": [
        "df1 = mendGen(2000,.2, 50)  # pop_size  should be >2000 to get stability  (Otherwise drift occeus .)\n",
        "#df1.head(10)"
      ],
      "metadata": {
        "colab": {
          "base_uri": "https://localhost:8080/",
          "height": 363
        },
        "collapsed": true,
        "id": "2EawyvamnVjz",
        "outputId": "c8a71a1c-7028-40ed-e42e-624e2d8da244"
      },
      "execution_count": 8,
      "outputs": [
        {
          "output_type": "execute_result",
          "data": {
            "text/plain": [
              "   Gen ZygoteType  Frequency\n",
              "0  0.0      Hom00     0.8000\n",
              "1  1.0      Hom00     0.6395\n",
              "2  2.0      Hom00     0.6400\n",
              "3  3.0      Hom00     0.6290\n",
              "4  4.0      Hom00     0.6315\n",
              "5  5.0      Hom00     0.6300\n",
              "6  6.0      Hom00     0.6215\n",
              "7  7.0      Hom00     0.6310\n",
              "8  8.0      Hom00     0.6185\n",
              "9  9.0      Hom00     0.6125"
            ],
            "text/html": [
              "\n",
              "  <div id=\"df-9db20d9d-f0d0-45f7-a9a8-37220b8f4555\" class=\"colab-df-container\">\n",
              "    <div>\n",
              "<style scoped>\n",
              "    .dataframe tbody tr th:only-of-type {\n",
              "        vertical-align: middle;\n",
              "    }\n",
              "\n",
              "    .dataframe tbody tr th {\n",
              "        vertical-align: top;\n",
              "    }\n",
              "\n",
              "    .dataframe thead th {\n",
              "        text-align: right;\n",
              "    }\n",
              "</style>\n",
              "<table border=\"1\" class=\"dataframe\">\n",
              "  <thead>\n",
              "    <tr style=\"text-align: right;\">\n",
              "      <th></th>\n",
              "      <th>Gen</th>\n",
              "      <th>ZygoteType</th>\n",
              "      <th>Frequency</th>\n",
              "    </tr>\n",
              "  </thead>\n",
              "  <tbody>\n",
              "    <tr>\n",
              "      <th>0</th>\n",
              "      <td>0.0</td>\n",
              "      <td>Hom00</td>\n",
              "      <td>0.8000</td>\n",
              "    </tr>\n",
              "    <tr>\n",
              "      <th>1</th>\n",
              "      <td>1.0</td>\n",
              "      <td>Hom00</td>\n",
              "      <td>0.6395</td>\n",
              "    </tr>\n",
              "    <tr>\n",
              "      <th>2</th>\n",
              "      <td>2.0</td>\n",
              "      <td>Hom00</td>\n",
              "      <td>0.6400</td>\n",
              "    </tr>\n",
              "    <tr>\n",
              "      <th>3</th>\n",
              "      <td>3.0</td>\n",
              "      <td>Hom00</td>\n",
              "      <td>0.6290</td>\n",
              "    </tr>\n",
              "    <tr>\n",
              "      <th>4</th>\n",
              "      <td>4.0</td>\n",
              "      <td>Hom00</td>\n",
              "      <td>0.6315</td>\n",
              "    </tr>\n",
              "    <tr>\n",
              "      <th>5</th>\n",
              "      <td>5.0</td>\n",
              "      <td>Hom00</td>\n",
              "      <td>0.6300</td>\n",
              "    </tr>\n",
              "    <tr>\n",
              "      <th>6</th>\n",
              "      <td>6.0</td>\n",
              "      <td>Hom00</td>\n",
              "      <td>0.6215</td>\n",
              "    </tr>\n",
              "    <tr>\n",
              "      <th>7</th>\n",
              "      <td>7.0</td>\n",
              "      <td>Hom00</td>\n",
              "      <td>0.6310</td>\n",
              "    </tr>\n",
              "    <tr>\n",
              "      <th>8</th>\n",
              "      <td>8.0</td>\n",
              "      <td>Hom00</td>\n",
              "      <td>0.6185</td>\n",
              "    </tr>\n",
              "    <tr>\n",
              "      <th>9</th>\n",
              "      <td>9.0</td>\n",
              "      <td>Hom00</td>\n",
              "      <td>0.6125</td>\n",
              "    </tr>\n",
              "  </tbody>\n",
              "</table>\n",
              "</div>\n",
              "    <div class=\"colab-df-buttons\">\n",
              "\n",
              "  <div class=\"colab-df-container\">\n",
              "    <button class=\"colab-df-convert\" onclick=\"convertToInteractive('df-9db20d9d-f0d0-45f7-a9a8-37220b8f4555')\"\n",
              "            title=\"Convert this dataframe to an interactive table.\"\n",
              "            style=\"display:none;\">\n",
              "\n",
              "  <svg xmlns=\"http://www.w3.org/2000/svg\" height=\"24px\" viewBox=\"0 -960 960 960\">\n",
              "    <path d=\"M120-120v-720h720v720H120Zm60-500h600v-160H180v160Zm220 220h160v-160H400v160Zm0 220h160v-160H400v160ZM180-400h160v-160H180v160Zm440 0h160v-160H620v160ZM180-180h160v-160H180v160Zm440 0h160v-160H620v160Z\"/>\n",
              "  </svg>\n",
              "    </button>\n",
              "\n",
              "  <style>\n",
              "    .colab-df-container {\n",
              "      display:flex;\n",
              "      gap: 12px;\n",
              "    }\n",
              "\n",
              "    .colab-df-convert {\n",
              "      background-color: #E8F0FE;\n",
              "      border: none;\n",
              "      border-radius: 50%;\n",
              "      cursor: pointer;\n",
              "      display: none;\n",
              "      fill: #1967D2;\n",
              "      height: 32px;\n",
              "      padding: 0 0 0 0;\n",
              "      width: 32px;\n",
              "    }\n",
              "\n",
              "    .colab-df-convert:hover {\n",
              "      background-color: #E2EBFA;\n",
              "      box-shadow: 0px 1px 2px rgba(60, 64, 67, 0.3), 0px 1px 3px 1px rgba(60, 64, 67, 0.15);\n",
              "      fill: #174EA6;\n",
              "    }\n",
              "\n",
              "    .colab-df-buttons div {\n",
              "      margin-bottom: 4px;\n",
              "    }\n",
              "\n",
              "    [theme=dark] .colab-df-convert {\n",
              "      background-color: #3B4455;\n",
              "      fill: #D2E3FC;\n",
              "    }\n",
              "\n",
              "    [theme=dark] .colab-df-convert:hover {\n",
              "      background-color: #434B5C;\n",
              "      box-shadow: 0px 1px 3px 1px rgba(0, 0, 0, 0.15);\n",
              "      filter: drop-shadow(0px 1px 2px rgba(0, 0, 0, 0.3));\n",
              "      fill: #FFFFFF;\n",
              "    }\n",
              "  </style>\n",
              "\n",
              "    <script>\n",
              "      const buttonEl =\n",
              "        document.querySelector('#df-9db20d9d-f0d0-45f7-a9a8-37220b8f4555 button.colab-df-convert');\n",
              "      buttonEl.style.display =\n",
              "        google.colab.kernel.accessAllowed ? 'block' : 'none';\n",
              "\n",
              "      async function convertToInteractive(key) {\n",
              "        const element = document.querySelector('#df-9db20d9d-f0d0-45f7-a9a8-37220b8f4555');\n",
              "        const dataTable =\n",
              "          await google.colab.kernel.invokeFunction('convertToInteractive',\n",
              "                                                    [key], {});\n",
              "        if (!dataTable) return;\n",
              "\n",
              "        const docLinkHtml = 'Like what you see? Visit the ' +\n",
              "          '<a target=\"_blank\" href=https://colab.research.google.com/notebooks/data_table.ipynb>data table notebook</a>'\n",
              "          + ' to learn more about interactive tables.';\n",
              "        element.innerHTML = '';\n",
              "        dataTable['output_type'] = 'display_data';\n",
              "        await google.colab.output.renderOutput(dataTable, element);\n",
              "        const docLink = document.createElement('div');\n",
              "        docLink.innerHTML = docLinkHtml;\n",
              "        element.appendChild(docLink);\n",
              "      }\n",
              "    </script>\n",
              "  </div>\n",
              "\n",
              "\n",
              "<div id=\"df-6bb57509-5377-4da0-8a8a-9026f684d55e\">\n",
              "  <button class=\"colab-df-quickchart\" onclick=\"quickchart('df-6bb57509-5377-4da0-8a8a-9026f684d55e')\"\n",
              "            title=\"Suggest charts\"\n",
              "            style=\"display:none;\">\n",
              "\n",
              "<svg xmlns=\"http://www.w3.org/2000/svg\" height=\"24px\"viewBox=\"0 0 24 24\"\n",
              "     width=\"24px\">\n",
              "    <g>\n",
              "        <path d=\"M19 3H5c-1.1 0-2 .9-2 2v14c0 1.1.9 2 2 2h14c1.1 0 2-.9 2-2V5c0-1.1-.9-2-2-2zM9 17H7v-7h2v7zm4 0h-2V7h2v10zm4 0h-2v-4h2v4z\"/>\n",
              "    </g>\n",
              "</svg>\n",
              "  </button>\n",
              "\n",
              "<style>\n",
              "  .colab-df-quickchart {\n",
              "      --bg-color: #E8F0FE;\n",
              "      --fill-color: #1967D2;\n",
              "      --hover-bg-color: #E2EBFA;\n",
              "      --hover-fill-color: #174EA6;\n",
              "      --disabled-fill-color: #AAA;\n",
              "      --disabled-bg-color: #DDD;\n",
              "  }\n",
              "\n",
              "  [theme=dark] .colab-df-quickchart {\n",
              "      --bg-color: #3B4455;\n",
              "      --fill-color: #D2E3FC;\n",
              "      --hover-bg-color: #434B5C;\n",
              "      --hover-fill-color: #FFFFFF;\n",
              "      --disabled-bg-color: #3B4455;\n",
              "      --disabled-fill-color: #666;\n",
              "  }\n",
              "\n",
              "  .colab-df-quickchart {\n",
              "    background-color: var(--bg-color);\n",
              "    border: none;\n",
              "    border-radius: 50%;\n",
              "    cursor: pointer;\n",
              "    display: none;\n",
              "    fill: var(--fill-color);\n",
              "    height: 32px;\n",
              "    padding: 0;\n",
              "    width: 32px;\n",
              "  }\n",
              "\n",
              "  .colab-df-quickchart:hover {\n",
              "    background-color: var(--hover-bg-color);\n",
              "    box-shadow: 0 1px 2px rgba(60, 64, 67, 0.3), 0 1px 3px 1px rgba(60, 64, 67, 0.15);\n",
              "    fill: var(--button-hover-fill-color);\n",
              "  }\n",
              "\n",
              "  .colab-df-quickchart-complete:disabled,\n",
              "  .colab-df-quickchart-complete:disabled:hover {\n",
              "    background-color: var(--disabled-bg-color);\n",
              "    fill: var(--disabled-fill-color);\n",
              "    box-shadow: none;\n",
              "  }\n",
              "\n",
              "  .colab-df-spinner {\n",
              "    border: 2px solid var(--fill-color);\n",
              "    border-color: transparent;\n",
              "    border-bottom-color: var(--fill-color);\n",
              "    animation:\n",
              "      spin 1s steps(1) infinite;\n",
              "  }\n",
              "\n",
              "  @keyframes spin {\n",
              "    0% {\n",
              "      border-color: transparent;\n",
              "      border-bottom-color: var(--fill-color);\n",
              "      border-left-color: var(--fill-color);\n",
              "    }\n",
              "    20% {\n",
              "      border-color: transparent;\n",
              "      border-left-color: var(--fill-color);\n",
              "      border-top-color: var(--fill-color);\n",
              "    }\n",
              "    30% {\n",
              "      border-color: transparent;\n",
              "      border-left-color: var(--fill-color);\n",
              "      border-top-color: var(--fill-color);\n",
              "      border-right-color: var(--fill-color);\n",
              "    }\n",
              "    40% {\n",
              "      border-color: transparent;\n",
              "      border-right-color: var(--fill-color);\n",
              "      border-top-color: var(--fill-color);\n",
              "    }\n",
              "    60% {\n",
              "      border-color: transparent;\n",
              "      border-right-color: var(--fill-color);\n",
              "    }\n",
              "    80% {\n",
              "      border-color: transparent;\n",
              "      border-right-color: var(--fill-color);\n",
              "      border-bottom-color: var(--fill-color);\n",
              "    }\n",
              "    90% {\n",
              "      border-color: transparent;\n",
              "      border-bottom-color: var(--fill-color);\n",
              "    }\n",
              "  }\n",
              "</style>\n",
              "\n",
              "  <script>\n",
              "    async function quickchart(key) {\n",
              "      const quickchartButtonEl =\n",
              "        document.querySelector('#' + key + ' button');\n",
              "      quickchartButtonEl.disabled = true;  // To prevent multiple clicks.\n",
              "      quickchartButtonEl.classList.add('colab-df-spinner');\n",
              "      try {\n",
              "        const charts = await google.colab.kernel.invokeFunction(\n",
              "            'suggestCharts', [key], {});\n",
              "      } catch (error) {\n",
              "        console.error('Error during call to suggestCharts:', error);\n",
              "      }\n",
              "      quickchartButtonEl.classList.remove('colab-df-spinner');\n",
              "      quickchartButtonEl.classList.add('colab-df-quickchart-complete');\n",
              "    }\n",
              "    (() => {\n",
              "      let quickchartButtonEl =\n",
              "        document.querySelector('#df-6bb57509-5377-4da0-8a8a-9026f684d55e button');\n",
              "      quickchartButtonEl.style.display =\n",
              "        google.colab.kernel.accessAllowed ? 'block' : 'none';\n",
              "    })();\n",
              "  </script>\n",
              "</div>\n",
              "\n",
              "    </div>\n",
              "  </div>\n"
            ],
            "application/vnd.google.colaboratory.intrinsic+json": {
              "type": "dataframe",
              "variable_name": "df1",
              "summary": "{\n  \"name\": \"df1\",\n  \"rows\": 153,\n  \"fields\": [\n    {\n      \"column\": \"Gen\",\n      \"properties\": {\n        \"dtype\": \"number\",\n        \"std\": 14.767941808632573,\n        \"min\": 0.0,\n        \"max\": 50.0,\n        \"num_unique_values\": 51,\n        \"samples\": [\n          43.0,\n          40.0,\n          46.0\n        ],\n        \"semantic_type\": \"\",\n        \"description\": \"\"\n      }\n    },\n    {\n      \"column\": \"ZygoteType\",\n      \"properties\": {\n        \"dtype\": \"category\",\n        \"num_unique_values\": 3,\n        \"samples\": [\n          \"Hom00\",\n          \"Het01\",\n          \"Hom11\"\n        ],\n        \"semantic_type\": \"\",\n        \"description\": \"\"\n      }\n    },\n    {\n      \"column\": \"Frequency\",\n      \"properties\": {\n        \"dtype\": \"number\",\n        \"std\": 0.22382588392719344,\n        \"min\": 0.0,\n        \"max\": 0.8,\n        \"num_unique_values\": 125,\n        \"samples\": [\n          0.621,\n          0.5285,\n          0.549\n        ],\n        \"semantic_type\": \"\",\n        \"description\": \"\"\n      }\n    }\n  ]\n}"
            }
          },
          "metadata": {},
          "execution_count": 8
        }
      ]
    },
    {
      "cell_type": "code",
      "source": [
        "sns.lineplot(x = df1[\"Gen\"], y = df1[\"Frequency\"],hue = df1[\"ZygoteType\"]).set(title = \"Zygote (2000 total) Freq Counts 50 Generation\",\n",
        "                                                               xlabel =\"Generation\",ylabel = \"Frequency\")\n"
      ],
      "metadata": {
        "colab": {
          "base_uri": "https://localhost:8080/",
          "height": 524
        },
        "id": "39KJrjHhTCe9",
        "outputId": "94c8ff66-4296-433d-83fa-6e5f4f4269b4"
      },
      "execution_count": 9,
      "outputs": [
        {
          "output_type": "execute_result",
          "data": {
            "text/plain": [
              "[Text(0.5, 1.0, 'Zygote (2000 total) Freq Counts 50 Generation'),\n",
              " Text(0.5, 0, 'Generation'),\n",
              " Text(0, 0.5, 'Frequency')]"
            ]
          },
          "metadata": {},
          "execution_count": 9
        },
        {
          "output_type": "display_data",
          "data": {
            "text/plain": [
              "<Figure size 640x480 with 1 Axes>"
            ],
            "image/png": "[encoded data removed]"
          },
          "metadata": {}
        }
      ]
    },
    {
      "cell_type": "code",
      "source": [],
      "metadata": {
        "id": "MEv4t1dFquC4",
        "colab": {
          "base_uri": "https://localhost:8080/"
        },
        "outputId": "41f2391f-6fe1-4378-ec52-44cbfafc1144"
      },
      "execution_count": null,
      "outputs": [
        {
          "output_type": "execute_result",
          "data": {
            "text/plain": [
              "36"
            ]
          },
          "metadata": {},
          "execution_count": 15
        }
      ]
    }
  ]
}