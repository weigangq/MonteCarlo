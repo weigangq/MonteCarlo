{
  "nbformat": 4,
  "nbformat_minor": 0,
  "metadata": {
    "colab": {
      "provenance": []
    },
    "kernelspec": {
      "name": "python3",
      "display_name": "Python 3"
    },
    "language_info": {
      "name": "python"
    }
  },
  "cells": [
    {
      "cell_type": "code",
      "source": [
        "# function for mathematical calculation of shared birthday probability\n",
        "def birthday_probability(n):\n",
        "  #prob no two students share a birthday\n",
        "  prob_none_share = 1\n",
        "  for i in range(1, n):\n",
        "      prob_none_share *= (365 - i) / 365\n",
        "  # Probability that at least 2 students share a birthday\n",
        "  probability = 1 - prob_none_share\n",
        "  return round(probability *100, 2)\n",
        "\n",
        "\n",
        "# birthday problem for class sizes 2-100\n",
        "import random\n",
        "import pandas as pd\n",
        "\n",
        "res = []\n",
        "for class_size in range(2,101):\n",
        "  counter = 0\n",
        "  for sim in range(1000):\n",
        "    birthdays = []\n",
        "    student = 1\n",
        "    while student <= class_size:\n",
        "      x = random.choice(list(range(0,365)))\n",
        "      if x in birthdays:\n",
        "        counter += 1\n",
        "        break\n",
        "      else:\n",
        "        birthdays.append(x)\n",
        "        student += 1\n",
        "  res.append({'class_size': class_size, 'expected': birthday_probability(class_size) ,'sim': round(counter/1000*100,2)})\n",
        "\n",
        "df = pd.DataFrame(res)\n",
        "#df\n",
        "\n",
        "\n",
        "# plot results\n",
        "import matplotlib.pyplot as plt\n",
        "\n",
        "x = df['class_size']\n",
        "y1 = df['expected']\n",
        "y2 = df['sim']\n",
        "\n",
        "plt.plot(x, y1, label=\"expected\")\n",
        "plt.plot(x, y2, label=\"sim\")\n",
        "\n",
        "plt.xlabel(\"Class Size\")\n",
        "plt.ylabel(\"Probability of shared birthday\")\n",
        "plt.title(\"The birthday paradox\")\n",
        "\n",
        "plt.legend()\n",
        "plt.show()"
      ],
      "metadata": {
        "id": "H5m-VdwdDhx_"
      },
      "execution_count": null,
      "outputs": []
    }
  ]
}