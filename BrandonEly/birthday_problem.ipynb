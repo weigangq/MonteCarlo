{
  "nbformat": 4,
  "nbformat_minor": 0,
  "metadata": {
    "colab": {
      "provenance": []
    },
    "kernelspec": {
      "name": "python3",
      "display_name": "Python 3"
    },
    "language_info": {
      "name": "python"
    }
  },
  "cells": [
    {
      "cell_type": "code",
      "source": [
        "# birthday problem\n",
        "import random\n",
        "\n",
        "counter = 0\n",
        "for sim in range(1000):\n",
        "  birthdays = []\n",
        "  for n in range(25):\n",
        "    x = random.choice(list(range(0,365)))\n",
        "    if x in birthdays:\n",
        "      counter += 1\n",
        "      break\n",
        "    else:\n",
        "      birthdays.append(x)\n",
        "\n",
        "print((counter/1000)*100)"
      ],
      "metadata": {
        "id": "nxSvF-SMX-RU"
      },
      "execution_count": null,
      "outputs": []
    }
  ]
}