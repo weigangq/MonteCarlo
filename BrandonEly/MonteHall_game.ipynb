{
  "nbformat": 4,
  "nbformat_minor": 0,
  "metadata": {
    "colab": {
      "provenance": []
    },
    "kernelspec": {
      "name": "python3",
      "display_name": "Python 3"
    },
    "language_info": {
      "name": "python"
    }
  },
  "cells": [
    {
      "cell_type": "code",
      "source": [
        "# monte hall game show problem\n",
        "import random\n",
        "\n",
        "strategies = ['keep', 'change']\n",
        "keep = 0\n",
        "change = 0\n",
        "\n",
        "# for each strategy\n",
        "for i in range(len(strategies)):\n",
        "  strategy = strategies[i]\n",
        "\n",
        "  # run simulation 1000 times\n",
        "  for i in range(1000):\n",
        "\n",
        "    # set up game\n",
        "    doors = ['A', 'B', 'C']\n",
        "    prizes = ['car', 'teddy bear', 'teddy bear']\n",
        "    game = {'A': None, 'B': None, 'C': None}\n",
        "    random.shuffle(prizes)\n",
        "    for key in game:\n",
        "        game[key] = prizes.pop()\n",
        "\n",
        "    # choose a door\n",
        "    selection = random.choice(doors)\n",
        "    doors.remove(selection)\n",
        "\n",
        "    # reveal a door\n",
        "    for i in range(len(doors)):\n",
        "      if game[doors[i]] == 'teddy bear':\n",
        "        reveal = doors[i]\n",
        "        doors.remove(reveal)\n",
        "        break\n",
        "\n",
        "    # determine result\n",
        "    winning_door = [key for key, value in game.items() if value == 'car']\n",
        "    if selection == winning_door[0] and strategy == 'keep':\n",
        "      keep += 1\n",
        "    if selection != winning_door[0] and strategy == 'change':\n",
        "      change += 1\n",
        "\n",
        "print('Succes with keep strategy =', keep/1000, '\\nSuccess with change strategy =',change/1000)\n"
      ],
      "metadata": {
        "colab": {
          "base_uri": "https://localhost:8080/"
        },
        "id": "WkgNw77kEf6q",
        "outputId": "861394ca-4e03-4814-f937-816cdb4adf2e"
      },
      "execution_count": 1,
      "outputs": [
        {
          "output_type": "stream",
          "name": "stdout",
          "text": [
            "Succes with keep strategy = 0.315 \n",
            "Success with change strategy = 0.671\n"
          ]
        }
      ]
    }
  ]
}